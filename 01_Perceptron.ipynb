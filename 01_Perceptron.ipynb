{
  "nbformat": 4,
  "nbformat_minor": 0,
  "metadata": {
    "colab": {
      "name": "01_Perceptron.ipynb",
      "provenance": [],
      "authorship_tag": "ABX9TyM/7uFsIqbRyg/db1rlGh4p",
      "include_colab_link": true
    },
    "kernelspec": {
      "name": "python3",
      "display_name": "Python 3"
    },
    "language_info": {
      "name": "python"
    },
    "accelerator": "GPU"
  },
  "cells": [
    {
      "cell_type": "markdown",
      "metadata": {
        "id": "view-in-github",
        "colab_type": "text"
      },
      "source": [
        "<a href=\"https://colab.research.google.com/github/YasheeSachan/ML/blob/main/01_Perceptron.ipynb\" target=\"_parent\"><img src=\"https://colab.research.google.com/assets/colab-badge.svg\" alt=\"Open In Colab\"/></a>"
      ]
    },
    {
      "cell_type": "code",
      "metadata": {
        "colab": {
          "base_uri": "https://localhost:8080/"
        },
        "id": "9iGDrYpEFT7i",
        "outputId": "bb2f8591-4b42-489b-91e2-4b565583302f"
      },
      "source": [
        "print('Hello World')"
      ],
      "execution_count": 1,
      "outputs": [
        {
          "output_type": "stream",
          "text": [
            "Hello World\n"
          ],
          "name": "stdout"
        }
      ]
    },
    {
      "cell_type": "markdown",
      "metadata": {
        "id": "mMEi-TZjc5_4"
      },
      "source": [
        "# Problem Statement\n",
        "\n",
        "Train the model to learn table of 10\n",
        "\n",
        "Equation- `y=10*x`"
      ]
    },
    {
      "cell_type": "markdown",
      "metadata": {
        "id": "6_xjwv2iHIC5"
      },
      "source": [
        "#Data Creation\n",
        "\n",
        "Equation=`y=10x`\n",
        "\n",
        "Target ->\n",
        "\n",
        "```\n",
        "x=[0, 1, 2, 3, 4, 5, ....]\n",
        "\n",
        "y=[0, 10, 20, 30, 40, 50, ....]\n",
        "```\n"
      ]
    },
    {
      "cell_type": "code",
      "metadata": {
        "id": "L-OJbBSdd8Up",
        "colab": {
          "base_uri": "https://localhost:8080/"
        },
        "outputId": "491b4995-efef-4bbe-c7c0-d215f57c5869"
      },
      "source": [
        "x=[i for i in range(21)] #list comprehension\n",
        "print(x)"
      ],
      "execution_count": 7,
      "outputs": [
        {
          "output_type": "stream",
          "text": [
            "[0, 1, 2, 3, 4, 5, 6, 7, 8, 9, 10, 11, 12, 13, 14, 15, 16, 17, 18, 19, 20]\n"
          ],
          "name": "stdout"
        }
      ]
    },
    {
      "cell_type": "code",
      "metadata": {
        "colab": {
          "base_uri": "https://localhost:8080/"
        },
        "id": "_fvf9UZkItCD",
        "outputId": "c01380e2-76a2-4071-c8e7-a69a76b4c345"
      },
      "source": [
        "y=[i for i in range(10*20+1) if i%10==0]\n",
        "print(y)"
      ],
      "execution_count": 8,
      "outputs": [
        {
          "output_type": "stream",
          "text": [
            "[0, 10, 20, 30, 40, 50, 60, 70, 80, 90, 100, 110, 120, 130, 140, 150, 160, 170, 180, 190, 200]\n"
          ],
          "name": "stdout"
        }
      ]
    },
    {
      "cell_type": "markdown",
      "metadata": {
        "id": "FZlW_SWbKjLE"
      },
      "source": [
        "#Approach 1\n",
        "\n",
        "Defining a function for the equation `y=10x`\n"
      ]
    },
    {
      "cell_type": "code",
      "metadata": {
        "colab": {
          "base_uri": "https://localhost:8080/"
        },
        "id": "k2bKNnI6KxXu",
        "outputId": "34f541f1-d0eb-4b21-a6b4-b14578308cbd"
      },
      "source": [
        "def tableofTen(x):\n",
        "  y=10*x\n",
        "  return y\n",
        "\n",
        "for value in x:\n",
        "  print(tableofTen(value))"
      ],
      "execution_count": 9,
      "outputs": [
        {
          "output_type": "stream",
          "text": [
            "0\n",
            "10\n",
            "20\n",
            "30\n",
            "40\n",
            "50\n",
            "60\n",
            "70\n",
            "80\n",
            "90\n",
            "100\n",
            "110\n",
            "120\n",
            "130\n",
            "140\n",
            "150\n",
            "160\n",
            "170\n",
            "180\n",
            "190\n",
            "200\n"
          ],
          "name": "stdout"
        }
      ]
    },
    {
      "cell_type": "markdown",
      "metadata": {
        "id": "u3UR51eTLpzv"
      },
      "source": [
        "#Approach 2\n",
        "\n",
        "Redundant ML model for Table of 10.\n",
        "\n",
        "You are going to need `xTrain`,`yTrain`, `xTest`, `yTest` from `x` and `y` lists."
      ]
    },
    {
      "cell_type": "code",
      "metadata": {
        "colab": {
          "base_uri": "https://localhost:8080/"
        },
        "id": "Zr5wjOf_LxHC",
        "outputId": "276d4f15-8a03-49a8-ab01-ae2bb6a110e7"
      },
      "source": [
        "xTrain=x[:-5]#Training Data\n",
        "yTrain=y[:-5]#Training Labels\n",
        "\n",
        "xTest=x[-5:]#Testing Data\n",
        "yTest=y[-5:]#Testing Labels\n",
        "\n",
        "print(f'''Training Data:\n",
        "\n",
        "xTrain={xTrain} \n",
        "yTrain={yTrain}\n",
        "\n",
        "Testing Data:\n",
        "\n",
        "xTest={xTest}\n",
        "yTest={yTest}''')"
      ],
      "execution_count": 12,
      "outputs": [
        {
          "output_type": "stream",
          "text": [
            "Training Data:\n",
            "\n",
            "xTrain=[0, 1, 2, 3, 4, 5, 6, 7, 8, 9, 10, 11, 12, 13, 14, 15] \n",
            "yTrain=[0, 10, 20, 30, 40, 50, 60, 70, 80, 90, 100, 110, 120, 130, 140, 150]\n",
            "\n",
            "Testing Data:\n",
            "\n",
            "xTest=[16, 17, 18, 19, 20]\n",
            "yTest=[160, 170, 180, 190, 200]\n"
          ],
          "name": "stdout"
        }
      ]
    },
    {
      "cell_type": "code",
      "metadata": {
        "id": "gdgoYqDLPNYY"
      },
      "source": [
        "import tensorflow as tf\n",
        "from tensorflow import keras"
      ],
      "execution_count": 13,
      "outputs": []
    },
    {
      "cell_type": "code",
      "metadata": {
        "id": "N7VD1ByMPpg8"
      },
      "source": [
        "#Perceptron Model\n",
        "\n",
        "model=tf.keras.Sequential([\n",
        "    tf.keras.layers.Dense(units='1', input_shape=[1])#units is the the number of neuron and input shape is the shape of input to your neuron.\n",
        "])"
      ],
      "execution_count": 19,
      "outputs": []
    },
    {
      "cell_type": "code",
      "metadata": {
        "id": "uaOedkLGSBju"
      },
      "source": [
        "model.compile(optimizer='adam', loss='mae')#sgd, rmsprop, adamax, adagrad"
      ],
      "execution_count": 20,
      "outputs": []
    },
    {
      "cell_type": "code",
      "metadata": {
        "colab": {
          "base_uri": "https://localhost:8080/"
        },
        "id": "gDDr4fRtS7SK",
        "outputId": "c195bac0-58a4-4607-8aaf-3d0f6dcf7cec"
      },
      "source": [
        "model.fit(x=xTrain, y=yTrain, validation_data=(xTest, yTest), epochs=50)"
      ],
      "execution_count": 21,
      "outputs": [
        {
          "output_type": "stream",
          "text": [
            "Epoch 1/50\n",
            "1/1 [==============================] - 3s 3s/step - loss: 71.3197 - val_loss: 171.1482\n",
            "Epoch 2/50\n",
            "1/1 [==============================] - 0s 32ms/step - loss: 71.3113 - val_loss: 171.1292\n",
            "Epoch 3/50\n",
            "1/1 [==============================] - 0s 32ms/step - loss: 71.3029 - val_loss: 171.1103\n",
            "Epoch 4/50\n",
            "1/1 [==============================] - 0s 33ms/step - loss: 71.2946 - val_loss: 171.0913\n",
            "Epoch 5/50\n",
            "1/1 [==============================] - 0s 34ms/step - loss: 71.2862 - val_loss: 171.0723\n",
            "Epoch 6/50\n",
            "1/1 [==============================] - 0s 37ms/step - loss: 71.2778 - val_loss: 171.0533\n",
            "Epoch 7/50\n",
            "1/1 [==============================] - 0s 37ms/step - loss: 71.2694 - val_loss: 171.0343\n",
            "Epoch 8/50\n",
            "1/1 [==============================] - 0s 44ms/step - loss: 71.2611 - val_loss: 171.0153\n",
            "Epoch 9/50\n",
            "1/1 [==============================] - 0s 34ms/step - loss: 71.2527 - val_loss: 170.9963\n",
            "Epoch 10/50\n",
            "1/1 [==============================] - 0s 32ms/step - loss: 71.2443 - val_loss: 170.9773\n",
            "Epoch 11/50\n",
            "1/1 [==============================] - 0s 32ms/step - loss: 71.2360 - val_loss: 170.9583\n",
            "Epoch 12/50\n",
            "1/1 [==============================] - 0s 35ms/step - loss: 71.2276 - val_loss: 170.9393\n",
            "Epoch 13/50\n",
            "1/1 [==============================] - 0s 32ms/step - loss: 71.2192 - val_loss: 170.9203\n",
            "Epoch 14/50\n",
            "1/1 [==============================] - 0s 35ms/step - loss: 71.2108 - val_loss: 170.9013\n",
            "Epoch 15/50\n",
            "1/1 [==============================] - 0s 34ms/step - loss: 71.2025 - val_loss: 170.8823\n",
            "Epoch 16/50\n",
            "1/1 [==============================] - 0s 35ms/step - loss: 71.1941 - val_loss: 170.8633\n",
            "Epoch 17/50\n",
            "1/1 [==============================] - 0s 34ms/step - loss: 71.1857 - val_loss: 170.8443\n",
            "Epoch 18/50\n",
            "1/1 [==============================] - 0s 34ms/step - loss: 71.1774 - val_loss: 170.8253\n",
            "Epoch 19/50\n",
            "1/1 [==============================] - 0s 31ms/step - loss: 71.1690 - val_loss: 170.8063\n",
            "Epoch 20/50\n",
            "1/1 [==============================] - 0s 34ms/step - loss: 71.1606 - val_loss: 170.7873\n",
            "Epoch 21/50\n",
            "1/1 [==============================] - 0s 37ms/step - loss: 71.1522 - val_loss: 170.7683\n",
            "Epoch 22/50\n",
            "1/1 [==============================] - 0s 34ms/step - loss: 71.1439 - val_loss: 170.7493\n",
            "Epoch 23/50\n",
            "1/1 [==============================] - 0s 53ms/step - loss: 71.1355 - val_loss: 170.7303\n",
            "Epoch 24/50\n",
            "1/1 [==============================] - 0s 33ms/step - loss: 71.1271 - val_loss: 170.7113\n",
            "Epoch 25/50\n",
            "1/1 [==============================] - 0s 37ms/step - loss: 71.1187 - val_loss: 170.6923\n",
            "Epoch 26/50\n",
            "1/1 [==============================] - 0s 36ms/step - loss: 71.1104 - val_loss: 170.6733\n",
            "Epoch 27/50\n",
            "1/1 [==============================] - 0s 33ms/step - loss: 71.1020 - val_loss: 170.6543\n",
            "Epoch 28/50\n",
            "1/1 [==============================] - 0s 35ms/step - loss: 71.0936 - val_loss: 170.6353\n",
            "Epoch 29/50\n",
            "1/1 [==============================] - 0s 35ms/step - loss: 71.0853 - val_loss: 170.6163\n",
            "Epoch 30/50\n",
            "1/1 [==============================] - 0s 37ms/step - loss: 71.0769 - val_loss: 170.5973\n",
            "Epoch 31/50\n",
            "1/1 [==============================] - 0s 38ms/step - loss: 71.0685 - val_loss: 170.5783\n",
            "Epoch 32/50\n",
            "1/1 [==============================] - 0s 35ms/step - loss: 71.0601 - val_loss: 170.5593\n",
            "Epoch 33/50\n",
            "1/1 [==============================] - 0s 34ms/step - loss: 71.0518 - val_loss: 170.5403\n",
            "Epoch 34/50\n",
            "1/1 [==============================] - 0s 33ms/step - loss: 71.0434 - val_loss: 170.5213\n",
            "Epoch 35/50\n",
            "1/1 [==============================] - 0s 37ms/step - loss: 71.0350 - val_loss: 170.5023\n",
            "Epoch 36/50\n",
            "1/1 [==============================] - 0s 36ms/step - loss: 71.0266 - val_loss: 170.4834\n",
            "Epoch 37/50\n",
            "1/1 [==============================] - 0s 34ms/step - loss: 71.0183 - val_loss: 170.4643\n",
            "Epoch 38/50\n",
            "1/1 [==============================] - 0s 32ms/step - loss: 71.0099 - val_loss: 170.4453\n",
            "Epoch 39/50\n",
            "1/1 [==============================] - 0s 43ms/step - loss: 71.0015 - val_loss: 170.4264\n",
            "Epoch 40/50\n",
            "1/1 [==============================] - 0s 40ms/step - loss: 70.9931 - val_loss: 170.4073\n",
            "Epoch 41/50\n",
            "1/1 [==============================] - 0s 55ms/step - loss: 70.9848 - val_loss: 170.3884\n",
            "Epoch 42/50\n",
            "1/1 [==============================] - 0s 35ms/step - loss: 70.9764 - val_loss: 170.3694\n",
            "Epoch 43/50\n",
            "1/1 [==============================] - 0s 31ms/step - loss: 70.9680 - val_loss: 170.3504\n",
            "Epoch 44/50\n",
            "1/1 [==============================] - 0s 32ms/step - loss: 70.9597 - val_loss: 170.3314\n",
            "Epoch 45/50\n",
            "1/1 [==============================] - 0s 33ms/step - loss: 70.9513 - val_loss: 170.3123\n",
            "Epoch 46/50\n",
            "1/1 [==============================] - 0s 34ms/step - loss: 70.9429 - val_loss: 170.2934\n",
            "Epoch 47/50\n",
            "1/1 [==============================] - 0s 41ms/step - loss: 70.9345 - val_loss: 170.2744\n",
            "Epoch 48/50\n",
            "1/1 [==============================] - 0s 33ms/step - loss: 70.9262 - val_loss: 170.2554\n",
            "Epoch 49/50\n",
            "1/1 [==============================] - 0s 33ms/step - loss: 70.9178 - val_loss: 170.2364\n",
            "Epoch 50/50\n",
            "1/1 [==============================] - 0s 36ms/step - loss: 70.9094 - val_loss: 170.2174\n"
          ],
          "name": "stdout"
        },
        {
          "output_type": "execute_result",
          "data": {
            "text/plain": [
              "<tensorflow.python.keras.callbacks.History at 0x7fc7658c9d90>"
            ]
          },
          "metadata": {
            "tags": []
          },
          "execution_count": 21
        }
      ]
    }
  ]
}